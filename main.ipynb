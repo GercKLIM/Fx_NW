{
 "cells": [
  {
   "cell_type": "code",
   "execution_count": 31,
   "id": "initial_id",
   "metadata": {
    "collapsed": true,
    "ExecuteTime": {
     "end_time": "2023-11-05T15:30:39.398847900Z",
     "start_time": "2023-11-05T15:30:39.390875600Z"
    }
   },
   "outputs": [],
   "source": [
    "# ПЛАН:\n",
    "# 1) Написать программу для создания графиков функций\n",
    "# 2) Написать программу для создания шумных графиков функций\n",
    "# 3) Написать код, преобразующий графики в данные для сети\n",
    "# 4) Написать модель нейросети\n",
    "# 5) Написать код тестирования нейросети\n",
    "# 6) Реализовать вывод результатов тестирования и ручное тестирование\n",
    "# *) Написать программу для создания очень шумных, искривленных графиков функций для тестирования\n",
    "# *) Исследовать коэффициенты сети\n",
    "# *) Реализовать большую точность нейросети посредством большего объема данных для обучения \n",
    "# *) Реализовать больший выбор графиков функций\n",
    "# *) Реализовать аппаратное ускорение\n",
    "# *) Реализовать интерфейс"
   ]
  },
  {
   "cell_type": "code",
   "execution_count": 32,
   "outputs": [],
   "source": [
    "# Вызов библиотек"
   ],
   "metadata": {
    "collapsed": false,
    "ExecuteTime": {
     "end_time": "2023-11-05T15:30:39.717991500Z",
     "start_time": "2023-11-05T15:30:39.708882200Z"
    }
   },
   "id": "26eb4afcb33c57bf"
  },
  {
   "cell_type": "code",
   "execution_count": 30,
   "outputs": [
    {
     "ename": "ValueError",
     "evalue": "Asked to retrieve element 1, but the Sequence has length 0",
     "output_type": "error",
     "traceback": [
      "\u001B[1;31m---------------------------------------------------------------------------\u001B[0m",
      "\u001B[1;31mValueError\u001B[0m                                Traceback (most recent call last)",
      "Cell \u001B[1;32mIn[30], line 1\u001B[0m\n\u001B[1;32m----> 1\u001B[0m train_generator[\u001B[38;5;241m1\u001B[39m]\n",
      "File \u001B[1;32m~\\anaconda3\\Lib\\site-packages\\keras\\src\\preprocessing\\image.py:103\u001B[0m, in \u001B[0;36mIterator.__getitem__\u001B[1;34m(self, idx)\u001B[0m\n\u001B[0;32m    101\u001B[0m \u001B[38;5;28;01mdef\u001B[39;00m \u001B[38;5;21m__getitem__\u001B[39m(\u001B[38;5;28mself\u001B[39m, idx):\n\u001B[0;32m    102\u001B[0m     \u001B[38;5;28;01mif\u001B[39;00m idx \u001B[38;5;241m>\u001B[39m\u001B[38;5;241m=\u001B[39m \u001B[38;5;28mlen\u001B[39m(\u001B[38;5;28mself\u001B[39m):\n\u001B[1;32m--> 103\u001B[0m         \u001B[38;5;28;01mraise\u001B[39;00m \u001B[38;5;167;01mValueError\u001B[39;00m(\n\u001B[0;32m    104\u001B[0m             \u001B[38;5;124m\"\u001B[39m\u001B[38;5;124mAsked to retrieve element \u001B[39m\u001B[38;5;132;01m{idx}\u001B[39;00m\u001B[38;5;124m, \u001B[39m\u001B[38;5;124m\"\u001B[39m\n\u001B[0;32m    105\u001B[0m             \u001B[38;5;124m\"\u001B[39m\u001B[38;5;124mbut the Sequence \u001B[39m\u001B[38;5;124m\"\u001B[39m\n\u001B[0;32m    106\u001B[0m             \u001B[38;5;124m\"\u001B[39m\u001B[38;5;124mhas length \u001B[39m\u001B[38;5;132;01m{length}\u001B[39;00m\u001B[38;5;124m\"\u001B[39m\u001B[38;5;241m.\u001B[39mformat(idx\u001B[38;5;241m=\u001B[39midx, length\u001B[38;5;241m=\u001B[39m\u001B[38;5;28mlen\u001B[39m(\u001B[38;5;28mself\u001B[39m))\n\u001B[0;32m    107\u001B[0m         )\n\u001B[0;32m    108\u001B[0m     \u001B[38;5;28;01mif\u001B[39;00m \u001B[38;5;28mself\u001B[39m\u001B[38;5;241m.\u001B[39mseed \u001B[38;5;129;01mis\u001B[39;00m \u001B[38;5;129;01mnot\u001B[39;00m \u001B[38;5;28;01mNone\u001B[39;00m:\n\u001B[0;32m    109\u001B[0m         np\u001B[38;5;241m.\u001B[39mrandom\u001B[38;5;241m.\u001B[39mseed(\u001B[38;5;28mself\u001B[39m\u001B[38;5;241m.\u001B[39mseed \u001B[38;5;241m+\u001B[39m \u001B[38;5;28mself\u001B[39m\u001B[38;5;241m.\u001B[39mtotal_batches_seen)\n",
      "\u001B[1;31mValueError\u001B[0m: Asked to retrieve element 1, but the Sequence has length 0"
     ]
    }
   ],
   "source": [],
   "metadata": {
    "collapsed": false,
    "ExecuteTime": {
     "end_time": "2023-11-05T15:29:14.124961600Z",
     "start_time": "2023-11-05T15:29:14.103942700Z"
    }
   },
   "id": "36cdf4cbf58a60a3"
  },
  {
   "cell_type": "code",
   "execution_count": 28,
   "outputs": [],
   "source": [],
   "metadata": {
    "collapsed": false,
    "ExecuteTime": {
     "end_time": "2023-11-05T15:29:08.814370100Z",
     "start_time": "2023-11-05T15:29:08.811357200Z"
    }
   },
   "id": "f9af365600ed02df"
  },
  {
   "cell_type": "code",
   "execution_count": 28,
   "outputs": [],
   "source": [],
   "metadata": {
    "collapsed": false,
    "ExecuteTime": {
     "end_time": "2023-11-05T15:29:08.820490100Z",
     "start_time": "2023-11-05T15:29:08.812356500Z"
    }
   },
   "id": "deacc2377f505e13"
  },
  {
   "cell_type": "code",
   "execution_count": 28,
   "outputs": [],
   "source": [],
   "metadata": {
    "collapsed": false,
    "ExecuteTime": {
     "end_time": "2023-11-05T15:29:08.820490100Z",
     "start_time": "2023-11-05T15:29:08.815851300Z"
    }
   },
   "id": "abf57b87e496a7bc"
  },
  {
   "cell_type": "code",
   "execution_count": 28,
   "outputs": [],
   "source": [],
   "metadata": {
    "collapsed": false,
    "ExecuteTime": {
     "end_time": "2023-11-05T15:29:08.820490100Z",
     "start_time": "2023-11-05T15:29:08.817902200Z"
    }
   },
   "id": "58bf2e78971fc9d7"
  },
  {
   "cell_type": "code",
   "execution_count": 28,
   "outputs": [],
   "source": [],
   "metadata": {
    "collapsed": false,
    "ExecuteTime": {
     "end_time": "2023-11-05T15:29:08.825554200Z",
     "start_time": "2023-11-05T15:29:08.819983700Z"
    }
   },
   "id": "62446dfb4ea6afa1"
  },
  {
   "cell_type": "code",
   "execution_count": 28,
   "outputs": [],
   "source": [],
   "metadata": {
    "collapsed": false,
    "ExecuteTime": {
     "end_time": "2023-11-05T15:29:08.825554200Z",
     "start_time": "2023-11-05T15:29:08.822052300Z"
    }
   },
   "id": "1806d184fbb641c4"
  }
 ],
 "metadata": {
  "kernelspec": {
   "display_name": "Python 3",
   "language": "python",
   "name": "python3"
  },
  "language_info": {
   "codemirror_mode": {
    "name": "ipython",
    "version": 2
   },
   "file_extension": ".py",
   "mimetype": "text/x-python",
   "name": "python",
   "nbconvert_exporter": "python",
   "pygments_lexer": "ipython2",
   "version": "2.7.6"
  }
 },
 "nbformat": 4,
 "nbformat_minor": 5
}
