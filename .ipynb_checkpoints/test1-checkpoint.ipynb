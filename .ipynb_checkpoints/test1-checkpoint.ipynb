{
 "cells": [
  {
   "cell_type": "code",
   "execution_count": 189,
   "metadata": {
    "ExecuteTime": {
     "end_time": "2023-11-19T12:48:28.308989100Z",
     "start_time": "2023-11-19T12:48:28.295035700Z"
    }
   },
   "outputs": [
    {
     "name": "stdout",
     "output_type": "stream",
     "text": [
      "2.15.0\n",
      "Доступные устройства GPU:\n"
     ]
    }
   ],
   "source": [
    "import tensorflow as tf\n",
    "print(tf.__version__)\n",
    "\n",
    "# Проверка подключения графического процессора\n",
    "print(\"Доступные устройства GPU:\")\n",
    "for device in tf.config.experimental.list_physical_devices('GPU'):\n",
    "    print(device)"
   ]
  },
  {
   "cell_type": "code",
   "execution_count": null,
   "metadata": {},
   "outputs": [],
   "source": []
  },
  {
   "cell_type": "code",
   "execution_count": 175,
   "metadata": {
    "ExecuteTime": {
     "end_time": "2023-11-19T12:48:28.346862400Z",
     "start_time": "2023-11-19T12:48:28.303008900Z"
    }
   },
   "outputs": [],
   "source": [
    "from tensorflow.keras.preprocessing.image import load_img, img_to_array\n",
    "import os\n",
    "\n",
    "# Путь к папке с изображениями\n",
    "train_image_dir = 'C:/Users/gerce/Documents/WORK DIRECTORY/Курсовая работа 5сем/code/input/data_train/'\n",
    "\n",
    "# Получение списка файлов с изображениями\n",
    "train_image_files = [os.path.join(train_image_dir, file) for file in os.listdir(train_image_dir) if file.endswith('.png')]\n",
    "\n",
    "# Создание списка меток (например, 0 для класса 1, 1 для класса 2 и так далее)\n",
    "train_labels = [i for i in range(0, 10)]"
   ]
  },
  {
   "cell_type": "code",
   "execution_count": 176,
   "metadata": {
    "ExecuteTime": {
     "end_time": "2023-11-19T12:48:28.365803900Z",
     "start_time": "2023-11-19T12:48:28.319953200Z"
    }
   },
   "outputs": [],
   "source": [
    "# Создание датасета с использованием tf.data.Dataset.from_tensor_slices\n",
    "train_dataset = tf.data.Dataset.from_tensor_slices((train_image_files, train_labels))\n",
    "\n",
    "# Функция для загрузки и предобработки изображений\n",
    "def load_and_preprocess_train_image(image_path, label):\n",
    "    img = tf.io.read_file(image_path)\n",
    "    img = tf.image.decode_png(img, channels=1)  # Черно-белые изображения\n",
    "    img = tf.image.resize(img, [1000, 1000])\n",
    "    img = tf.image.convert_image_dtype(img, tf.float32)\n",
    "    return img, label\n",
    "\n",
    "# Применение функции загрузки и предобработки к каждому элементу датасета\n",
    "train_dataset = train_dataset.map(load_and_preprocess_train_image)\n",
    "# Теперь у вас есть датасет, который можно использовать для обучения модели"
   ]
  },
  {
   "cell_type": "code",
   "execution_count": 177,
   "metadata": {
    "ExecuteTime": {
     "end_time": "2023-11-19T12:48:28.385732600Z",
     "start_time": "2023-11-19T12:48:28.365803900Z"
    }
   },
   "outputs": [],
   "source": [
    "batch_size = 32  # Настройте размер батча по необходимости\n",
    "train_dataset = train_dataset.batch(batch_size)"
   ]
  },
  {
   "cell_type": "code",
   "execution_count": 178,
   "metadata": {
    "ExecuteTime": {
     "end_time": "2023-11-19T12:48:28.397698300Z",
     "start_time": "2023-11-19T12:48:28.383741700Z"
    }
   },
   "outputs": [],
   "source": [
    "# model = tf.keras.models.Sequential([\n",
    "#   tf.keras.layers.Conv2D(64, (3, 3), activation='relu', input_shape=(28, 28, 1)),\n",
    "#   tf.keras.layers.MaxPooling2D(2, 2),\n",
    "#   tf.keras.layers.Conv2D(64, (3, 3), activation='relu'),\n",
    "#   tf.keras.layers.MaxPooling2D(2,2),\n",
    "#   tf.keras.layers.Flatten(),\n",
    "#   tf.keras.layers.Dense(128, activation='relu'),\n",
    "#   tf.keras.layers.Dense(10, activation='softmax')\n",
    "# ])\n",
    "# model.compile(optimizer='adam', loss='sparse_categorical_crossentropy', metrics=['accuracy'])\n",
    "# #model.summary()"
   ]
  },
  {
   "cell_type": "code",
   "execution_count": 179,
   "metadata": {
    "ExecuteTime": {
     "end_time": "2023-11-19T12:48:28.461483400Z",
     "start_time": "2023-11-19T12:48:28.401678900Z"
    }
   },
   "outputs": [],
   "source": [
    "from tensorflow.keras.models import Sequential\n",
    "from tensorflow.keras.layers import Conv2D, MaxPooling2D, Flatten, Dense\n",
    "# Создание модели\n",
    "model = Sequential()\n",
    "\n",
    "# Первый сверточный слой\n",
    "model.add(Conv2D(32, (3, 3), activation='relu', input_shape=(1000, 1000, 1)))  # Подставьте правильный размер входных данных\n",
    "\n",
    "# Пулинг для уменьшения размера\n",
    "model.add(MaxPooling2D(pool_size=(2, 2)))\n",
    "\n",
    "# Второй сверточный слой\n",
    "model.add(Conv2D(64, (3, 3), activation='relu'))\n",
    "\n",
    "# Пулинг для уменьшения размера\n",
    "model.add(MaxPooling2D(pool_size=(2, 2)))\n",
    "\n",
    "# Пулинг для уменьшения размера\n",
    "model.add(MaxPooling2D(pool_size=(2, 2)))\n",
    "\n",
    "# Второй сверточный слой\n",
    "model.add(Conv2D(64, (3, 3), activation='relu'))\n",
    "\n",
    "# Сглаживание перед полносвязными слоями\n",
    "model.add(Flatten())\n",
    "\n",
    "# Полносвязный слой\n",
    "model.add(Dense(128, activation='relu'))\n",
    "\n",
    "# Выходной слой с 10 нейронами (по одному для каждого класса) и softmax активацией\n",
    "model.add(Dense(10, activation='softmax'))\n",
    "\n",
    "model.compile(optimizer='adam', loss='sparse_categorical_crossentropy', metrics=['accuracy'])\n"
   ]
  },
  {
   "cell_type": "code",
   "execution_count": 180,
   "metadata": {
    "ExecuteTime": {
     "end_time": "2023-11-19T12:48:29.082442900Z",
     "start_time": "2023-11-19T12:48:28.461483400Z"
    }
   },
   "outputs": [
    {
     "name": "stdout",
     "output_type": "stream",
     "text": [
      "Epoch 1/5\n"
     ]
    },
    {
     "name": "stdout",
     "output_type": "stream",
     "text": [
      "1/1 [==============================] - 3s 3s/step - loss: 31.4629 - accuracy: 0.1000\n",
      "Epoch 2/5\n",
      "1/1 [==============================] - 2s 2s/step - loss: 12359.4033 - accuracy: 0.1000\n",
      "Epoch 3/5\n",
      "1/1 [==============================] - 3s 3s/step - loss: 6154.3579 - accuracy: 0.1000\n",
      "Epoch 4/5\n",
      "1/1 [==============================] - 4s 4s/step - loss: 4427.7764 - accuracy: 0.1000\n",
      "Epoch 5/5\n",
      "1/1 [==============================] - 2s 2s/step - loss: 2325.5718 - accuracy: 0.1000\n"
     ]
    },
    {
     "data": {
      "text/plain": [
       "<keras.src.callbacks.History at 0x125b15548e0>"
      ]
     },
     "execution_count": 180,
     "metadata": {},
     "output_type": "execute_result"
    }
   ],
   "source": [
    "model.fit(train_dataset, epochs=5)"
   ]
  },
  {
   "cell_type": "code",
   "execution_count": 181,
   "metadata": {
    "ExecuteTime": {
     "end_time": "2023-11-19T12:48:29.110345800Z",
     "start_time": "2023-11-19T12:48:29.080445800Z"
    }
   },
   "outputs": [],
   "source": [
    "# Путь к папке с изображениями\n",
    "test_image_dir = 'C:/Users/gerce/Documents/WORK DIRECTORY/Курсовая работа 5сем/code/input/data_test/'\n",
    "\n",
    "# Получение списка файлов с изображениями\n",
    "test_image_files = [os.path.join(test_image_dir, file) for file in os.listdir(test_image_dir) if file.endswith('.png')]\n",
    "\n",
    "# Создание списка меток (например, 0 для класса 1, 1 для класса 2 и так далее)\n",
    "test_labels = [i for i in range(0, 10)]"
   ]
  },
  {
   "cell_type": "code",
   "execution_count": 182,
   "metadata": {
    "ExecuteTime": {
     "end_time": "2023-11-19T12:48:29.121309Z",
     "start_time": "2023-11-19T12:48:29.096392700Z"
    }
   },
   "outputs": [],
   "source": [
    "# Создание датасета с использованием tf.data.Dataset.from_tensor_slices\n",
    "test_dataset = tf.data.Dataset.from_tensor_slices((test_image_files, test_labels))\n",
    "\n",
    "# Функция для загрузки и предобработки изображений\n",
    "def load_and_preprocess_test_image(image_path, label):\n",
    "    img = tf.io.read_file(image_path)\n",
    "    img = tf.image.decode_png(img, channels=1)  # Черно-белые изображения\n",
    "    img = tf.image.resize(img, [1000, 1000])\n",
    "    img = tf.image.convert_image_dtype(img, tf.float32)\n",
    "    return img, label\n",
    "\n",
    "# Применение функции загрузки и предобработки к каждому элементу датасета\n",
    "test_dataset = test_dataset.map(load_and_preprocess_test_image)\n",
    "# Теперь у вас есть датасет, который можно использовать для обучения модели"
   ]
  },
  {
   "cell_type": "code",
   "execution_count": 183,
   "metadata": {
    "ExecuteTime": {
     "end_time": "2023-11-19T12:48:29.130279800Z",
     "start_time": "2023-11-19T12:48:29.112339200Z"
    }
   },
   "outputs": [],
   "source": [
    "batch_size = 32  # Настройте размер батча по необходимости\n",
    "test_dataset = test_dataset.batch(batch_size)"
   ]
  },
  {
   "cell_type": "code",
   "execution_count": 184,
   "metadata": {
    "ExecuteTime": {
     "end_time": "2023-11-19T12:48:29.178121Z",
     "start_time": "2023-11-19T12:48:29.129282800Z"
    }
   },
   "outputs": [
    {
     "name": "stdout",
     "output_type": "stream",
     "text": [
      "1/1 [==============================] - 1s 652ms/step - loss: 1731.5863 - accuracy: 0.1000\n",
      "Test loss: 1731.5863037109375, Test accuracy: 10.000000149011612\n"
     ]
    }
   ],
   "source": [
    "test_loss, test_accuracy = model.evaluate(test_dataset)\n",
    "print ('Test loss: {}, Test accuracy: {}'.format(test_loss, test_accuracy*100))"
   ]
  },
  {
   "cell_type": "code",
   "execution_count": null,
   "metadata": {
    "ExecuteTime": {
     "start_time": "2023-11-19T12:48:29.177123100Z"
    },
    "collapsed": false
   },
   "outputs": [],
   "source": []
  }
 ],
 "metadata": {
  "kernelspec": {
   "display_name": "base",
   "language": "python",
   "name": "python3"
  },
  "language_info": {
   "codemirror_mode": {
    "name": "ipython",
    "version": 3
   },
   "file_extension": ".py",
   "mimetype": "text/x-python",
   "name": "python",
   "nbconvert_exporter": "python",
   "pygments_lexer": "ipython3",
   "version": "3.9.2"
  }
 },
 "nbformat": 4,
 "nbformat_minor": 2
}
