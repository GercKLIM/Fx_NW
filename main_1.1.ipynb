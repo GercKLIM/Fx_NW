{
 "cells": [
  {
   "cell_type": "code",
   "execution_count": 14,
   "metadata": {
    "ExecuteTime": {
     "end_time": "2023-11-19T12:48:28.308989100Z",
     "start_time": "2023-11-19T12:48:28.295035700Z"
    }
   },
   "outputs": [
    {
     "name": "stdout",
     "output_type": "stream",
     "text": [
      "2.15.0\n"
     ]
    }
   ],
   "source": [
    "import tensorflow as tf\n",
    "print(tf.__version__)"
   ]
  },
  {
   "cell_type": "code",
   "execution_count": 15,
   "metadata": {
    "ExecuteTime": {
     "end_time": "2023-11-19T12:48:28.346862400Z",
     "start_time": "2023-11-19T12:48:28.303008900Z"
    }
   },
   "outputs": [],
   "source": [
    "from tensorflow.keras.preprocessing.image import load_img, img_to_array\n",
    "import os\n",
    "\n",
    "# Путь к папке с изображениями\n",
    "train_image_dir = 'C:/Users/gerce/Documents/WORK DIRECTORY/Курсовая работа 5сем/code/input/data_train/'\n",
    "\n",
    "# Получение списка файлов с изображениями\n",
    "train_image_files = [os.path.join(train_image_dir, file) for file in os.listdir(train_image_dir) if file.endswith('.png')]\n",
    "\n",
    "# Создание списка меток (например, 0 для класса 1, 1 для класса 2 и так далее)\n",
    "train_labels = [i for i in range(0, 10)]"
   ]
  },
  {
   "cell_type": "code",
   "execution_count": 16,
   "metadata": {
    "ExecuteTime": {
     "end_time": "2023-11-19T12:48:28.365803900Z",
     "start_time": "2023-11-19T12:48:28.319953200Z"
    }
   },
   "outputs": [],
   "source": [
    "# Создание датасета с использованием tf.data.Dataset.from_tensor_slices\n",
    "train_dataset = tf.data.Dataset.from_tensor_slices((train_image_files, train_labels))\n",
    "\n",
    "# Функция для загрузки и предобработки изображений\n",
    "def load_and_preprocess_image(image_path, label):\n",
    "    img = tf.io.read_file(image_path)\n",
    "    img = tf.image.decode_png(img, channels=3)  # Черно-белые изображения\n",
    "    img = tf.image.resize(img, [28, 28])\n",
    "    img = tf.image.convert_image_dtype(img, tf.float32)\n",
    "    return img, label\n",
    "\n",
    "# Применение функции загрузки и предобработки к каждому элементу датасета\n",
    "train_dataset = train_dataset.map(load_and_preprocess_image)\n",
    "# Теперь у вас есть датасет, который можно использовать для обучения модели"
   ]
  },
  {
   "cell_type": "code",
   "execution_count": 17,
   "metadata": {
    "ExecuteTime": {
     "end_time": "2023-11-19T12:48:28.385732600Z",
     "start_time": "2023-11-19T12:48:28.365803900Z"
    }
   },
   "outputs": [],
   "source": [
    "batch_size = 32  # Настройте размер батча по необходимости\n",
    "train_dataset = train_dataset.batch(batch_size)"
   ]
  },
  {
   "cell_type": "code",
   "execution_count": 18,
   "metadata": {
    "ExecuteTime": {
     "end_time": "2023-11-19T12:48:28.397698300Z",
     "start_time": "2023-11-19T12:48:28.383741700Z"
    }
   },
   "outputs": [],
   "source": [
    "# model = tf.keras.models.Sequential([\n",
    "#   tf.keras.layers.Conv2D(64, (3, 3), activation='relu', input_shape=(28, 28, 1)),\n",
    "#   tf.keras.layers.MaxPooling2D(2, 2),\n",
    "#   tf.keras.layers.Conv2D(64, (3, 3), activation='relu'),\n",
    "#   tf.keras.layers.MaxPooling2D(2,2),\n",
    "#   tf.keras.layers.Flatten(),\n",
    "#   tf.keras.layers.Dense(128, activation='relu'),\n",
    "#   tf.keras.layers.Dense(10, activation='softmax')\n",
    "# ])\n",
    "# model.compile(optimizer='adam', loss='sparse_categorical_crossentropy', metrics=['accuracy'])\n",
    "# #model.summary()"
   ]
  },
  {
   "cell_type": "code",
   "execution_count": 19,
   "metadata": {
    "ExecuteTime": {
     "end_time": "2023-11-19T12:48:28.461483400Z",
     "start_time": "2023-11-19T12:48:28.401678900Z"
    }
   },
   "outputs": [],
   "source": [
    "from tensorflow.keras.models import Sequential\n",
    "from tensorflow.keras.layers import Conv2D, MaxPooling2D, Flatten, Dense\n",
    "# Создание модели\n",
    "model = Sequential()\n",
    "\n",
    "# Первый сверточный слой\n",
    "model.add(Conv2D(32, (3, 3), activation='relu', input_shape=(28, 28, 3)))  # Подставьте правильный размер входных данных\n",
    "\n",
    "# Пулинг для уменьшения размера\n",
    "model.add(MaxPooling2D(pool_size=(2, 2)))\n",
    "\n",
    "# Второй сверточный слой\n",
    "model.add(Conv2D(64, (3, 3), activation='relu'))\n",
    "\n",
    "# Пулинг для уменьшения размера\n",
    "model.add(MaxPooling2D(pool_size=(2, 2)))\n",
    "\n",
    "# Сглаживание перед полносвязными слоями\n",
    "model.add(Flatten())\n",
    "\n",
    "# Полносвязный слой\n",
    "model.add(Dense(128, activation='relu'))\n",
    "\n",
    "# Выходной слой с 10 нейронами (по одному для каждого класса) и softmax активацией\n",
    "model.add(Dense(10, activation='softmax'))\n",
    "\n",
    "model.compile(optimizer='adam', loss='sparse_categorical_crossentropy', metrics=['accuracy'])\n"
   ]
  },
  {
   "cell_type": "code",
   "execution_count": 20,
   "metadata": {
    "ExecuteTime": {
     "end_time": "2023-11-19T12:48:29.082442900Z",
     "start_time": "2023-11-19T12:48:28.461483400Z"
    }
   },
   "outputs": [
    {
     "name": "stdout",
     "output_type": "stream",
     "text": [
      "Epoch 1/5\n",
      "1/1 [==============================] - 0s 493ms/step - loss: 102.9463 - accuracy: 0.0000e+00\n",
      "Epoch 2/5\n",
      "1/1 [==============================] - 0s 12ms/step - loss: 164.6268 - accuracy: 0.1000\n",
      "Epoch 3/5\n",
      "1/1 [==============================] - 0s 13ms/step - loss: 96.8466 - accuracy: 0.1000\n",
      "Epoch 4/5\n",
      "1/1 [==============================] - 0s 13ms/step - loss: 100.0202 - accuracy: 0.1000\n",
      "Epoch 5/5\n",
      "1/1 [==============================] - 0s 13ms/step - loss: 113.0727 - accuracy: 0.1000\n"
     ]
    },
    {
     "data": {
      "text/plain": "<keras.src.callbacks.History at 0x1d8f6c34af0>"
     },
     "execution_count": 20,
     "metadata": {},
     "output_type": "execute_result"
    }
   ],
   "source": [
    "model.fit(train_dataset, epochs=5)"
   ]
  },
  {
   "cell_type": "code",
   "execution_count": 21,
   "metadata": {
    "ExecuteTime": {
     "end_time": "2023-11-19T12:48:29.110345800Z",
     "start_time": "2023-11-19T12:48:29.080445800Z"
    }
   },
   "outputs": [],
   "source": [
    "# Путь к папке с изображениями\n",
    "test_image_dir = 'C:/Users/gerce/Documents/WORK DIRECTORY/Курсовая работа 5сем/code/input/data_test/'\n",
    "\n",
    "# Получение списка файлов с изображениями\n",
    "test_image_files = [os.path.join(test_image_dir, file) for file in os.listdir(test_image_dir) if file.endswith('.png')]\n",
    "\n",
    "# Создание списка меток (например, 0 для класса 1, 1 для класса 2 и так далее)\n",
    "test_labels = [i for i in range(0, 10)]"
   ]
  },
  {
   "cell_type": "code",
   "execution_count": 22,
   "metadata": {
    "ExecuteTime": {
     "end_time": "2023-11-19T12:48:29.121309Z",
     "start_time": "2023-11-19T12:48:29.096392700Z"
    }
   },
   "outputs": [],
   "source": [
    "# Создание датасета с использованием tf.data.Dataset.from_tensor_slices\n",
    "test_dataset = tf.data.Dataset.from_tensor_slices((test_image_files, test_labels))\n",
    "\n",
    "# Функция для загрузки и предобработки изображений\n",
    "def load_and_preprocess_image(image_path, label):\n",
    "    img = tf.io.read_file(image_path)\n",
    "    img = tf.image.decode_png(img, channels=3)  # Черно-белые изображения\n",
    "    img = tf.image.resize(img, [28, 28])\n",
    "    img = tf.image.convert_image_dtype(img, tf.float32)\n",
    "    return img, label\n",
    "\n",
    "# Применение функции загрузки и предобработки к каждому элементу датасета\n",
    "test_train_dataset = test_dataset.map(load_and_preprocess_image)\n",
    "# Теперь у вас есть датасет, который можно использовать для обучения модели"
   ]
  },
  {
   "cell_type": "code",
   "execution_count": 23,
   "metadata": {
    "ExecuteTime": {
     "end_time": "2023-11-19T12:48:29.130279800Z",
     "start_time": "2023-11-19T12:48:29.112339200Z"
    }
   },
   "outputs": [],
   "source": [
    "batch_size = 32  # Настройте размер батча по необходимости\n",
    "test_dataset = test_dataset.batch(batch_size)"
   ]
  },
  {
   "cell_type": "code",
   "execution_count": 24,
   "metadata": {
    "ExecuteTime": {
     "end_time": "2023-11-19T12:48:29.178121Z",
     "start_time": "2023-11-19T12:48:29.129282800Z"
    }
   },
   "outputs": [
    {
     "ename": "ValueError",
     "evalue": "in user code:\n\n    File \"c:\\users\\gerce\\appdata\\local\\programs\\python\\python39\\lib\\site-packages\\keras\\src\\engine\\training.py\", line 2066, in test_function  *\n        return step_function(self, iterator)\n    File \"c:\\users\\gerce\\appdata\\local\\programs\\python\\python39\\lib\\site-packages\\keras\\src\\engine\\training.py\", line 2049, in step_function  **\n        outputs = model.distribute_strategy.run(run_step, args=(data,))\n    File \"c:\\users\\gerce\\appdata\\local\\programs\\python\\python39\\lib\\site-packages\\keras\\src\\engine\\training.py\", line 2037, in run_step  **\n        outputs = model.test_step(data)\n    File \"c:\\users\\gerce\\appdata\\local\\programs\\python\\python39\\lib\\site-packages\\keras\\src\\engine\\training.py\", line 1917, in test_step\n        y_pred = self(x, training=False)\n    File \"c:\\users\\gerce\\appdata\\local\\programs\\python\\python39\\lib\\site-packages\\keras\\src\\utils\\traceback_utils.py\", line 70, in error_handler\n        raise e.with_traceback(filtered_tb) from None\n    File \"c:\\users\\gerce\\appdata\\local\\programs\\python\\python39\\lib\\site-packages\\keras\\src\\engine\\input_spec.py\", line 253, in assert_input_compatibility\n        raise ValueError(\n\n    ValueError: Exception encountered when calling layer 'sequential_1' (type Sequential).\n    \n    Input 0 of layer \"conv2d_2\" is incompatible with the layer: expected min_ndim=4, found ndim=1. Full shape received: (None,)\n    \n    Call arguments received by layer 'sequential_1' (type Sequential):\n      • inputs=tf.Tensor(shape=(None,), dtype=string)\n      • training=False\n      • mask=None\n",
     "output_type": "error",
     "traceback": [
      "\u001B[1;31m---------------------------------------------------------------------------\u001B[0m",
      "\u001B[1;31mValueError\u001B[0m                                Traceback (most recent call last)",
      "Cell \u001B[1;32mIn[24], line 1\u001B[0m\n\u001B[1;32m----> 1\u001B[0m test_loss, test_accuracy \u001B[38;5;241m=\u001B[39m \u001B[43mmodel\u001B[49m\u001B[38;5;241;43m.\u001B[39;49m\u001B[43mevaluate\u001B[49m\u001B[43m(\u001B[49m\u001B[43mtest_dataset\u001B[49m\u001B[43m)\u001B[49m\n\u001B[0;32m      2\u001B[0m \u001B[38;5;28mprint\u001B[39m (\u001B[38;5;124m'\u001B[39m\u001B[38;5;124mTest loss: \u001B[39m\u001B[38;5;132;01m{}\u001B[39;00m\u001B[38;5;124m, Test accuracy: \u001B[39m\u001B[38;5;132;01m{}\u001B[39;00m\u001B[38;5;124m'\u001B[39m\u001B[38;5;241m.\u001B[39mformat(test_loss, test_accuracy\u001B[38;5;241m*\u001B[39m\u001B[38;5;241m100\u001B[39m))\n",
      "File \u001B[1;32mc:\\users\\gerce\\appdata\\local\\programs\\python\\python39\\lib\\site-packages\\keras\\src\\utils\\traceback_utils.py:70\u001B[0m, in \u001B[0;36mfilter_traceback.<locals>.error_handler\u001B[1;34m(*args, **kwargs)\u001B[0m\n\u001B[0;32m     67\u001B[0m     filtered_tb \u001B[38;5;241m=\u001B[39m _process_traceback_frames(e\u001B[38;5;241m.\u001B[39m__traceback__)\n\u001B[0;32m     68\u001B[0m     \u001B[38;5;66;03m# To get the full stack trace, call:\u001B[39;00m\n\u001B[0;32m     69\u001B[0m     \u001B[38;5;66;03m# `tf.debugging.disable_traceback_filtering()`\u001B[39;00m\n\u001B[1;32m---> 70\u001B[0m     \u001B[38;5;28;01mraise\u001B[39;00m e\u001B[38;5;241m.\u001B[39mwith_traceback(filtered_tb) \u001B[38;5;28;01mfrom\u001B[39;00m \u001B[38;5;28;01mNone\u001B[39;00m\n\u001B[0;32m     71\u001B[0m \u001B[38;5;28;01mfinally\u001B[39;00m:\n\u001B[0;32m     72\u001B[0m     \u001B[38;5;28;01mdel\u001B[39;00m filtered_tb\n",
      "File \u001B[1;32m~\\AppData\\Local\\Temp\\__autograph_generated_file4hmj9dby.py:15\u001B[0m, in \u001B[0;36mouter_factory.<locals>.inner_factory.<locals>.tf__test_function\u001B[1;34m(iterator)\u001B[0m\n\u001B[0;32m     13\u001B[0m \u001B[38;5;28;01mtry\u001B[39;00m:\n\u001B[0;32m     14\u001B[0m     do_return \u001B[38;5;241m=\u001B[39m \u001B[38;5;28;01mTrue\u001B[39;00m\n\u001B[1;32m---> 15\u001B[0m     retval_ \u001B[38;5;241m=\u001B[39m ag__\u001B[38;5;241m.\u001B[39mconverted_call(ag__\u001B[38;5;241m.\u001B[39mld(step_function), (ag__\u001B[38;5;241m.\u001B[39mld(\u001B[38;5;28mself\u001B[39m), ag__\u001B[38;5;241m.\u001B[39mld(iterator)), \u001B[38;5;28;01mNone\u001B[39;00m, fscope)\n\u001B[0;32m     16\u001B[0m \u001B[38;5;28;01mexcept\u001B[39;00m:\n\u001B[0;32m     17\u001B[0m     do_return \u001B[38;5;241m=\u001B[39m \u001B[38;5;28;01mFalse\u001B[39;00m\n",
      "\u001B[1;31mValueError\u001B[0m: in user code:\n\n    File \"c:\\users\\gerce\\appdata\\local\\programs\\python\\python39\\lib\\site-packages\\keras\\src\\engine\\training.py\", line 2066, in test_function  *\n        return step_function(self, iterator)\n    File \"c:\\users\\gerce\\appdata\\local\\programs\\python\\python39\\lib\\site-packages\\keras\\src\\engine\\training.py\", line 2049, in step_function  **\n        outputs = model.distribute_strategy.run(run_step, args=(data,))\n    File \"c:\\users\\gerce\\appdata\\local\\programs\\python\\python39\\lib\\site-packages\\keras\\src\\engine\\training.py\", line 2037, in run_step  **\n        outputs = model.test_step(data)\n    File \"c:\\users\\gerce\\appdata\\local\\programs\\python\\python39\\lib\\site-packages\\keras\\src\\engine\\training.py\", line 1917, in test_step\n        y_pred = self(x, training=False)\n    File \"c:\\users\\gerce\\appdata\\local\\programs\\python\\python39\\lib\\site-packages\\keras\\src\\utils\\traceback_utils.py\", line 70, in error_handler\n        raise e.with_traceback(filtered_tb) from None\n    File \"c:\\users\\gerce\\appdata\\local\\programs\\python\\python39\\lib\\site-packages\\keras\\src\\engine\\input_spec.py\", line 253, in assert_input_compatibility\n        raise ValueError(\n\n    ValueError: Exception encountered when calling layer 'sequential_1' (type Sequential).\n    \n    Input 0 of layer \"conv2d_2\" is incompatible with the layer: expected min_ndim=4, found ndim=1. Full shape received: (None,)\n    \n    Call arguments received by layer 'sequential_1' (type Sequential):\n      • inputs=tf.Tensor(shape=(None,), dtype=string)\n      • training=False\n      • mask=None\n"
     ]
    }
   ],
   "source": [
    "test_loss, test_accuracy = model.evaluate(test_dataset)\n",
    "print ('Test loss: {}, Test accuracy: {}'.format(test_loss, test_accuracy*100))"
   ]
  },
  {
   "cell_type": "code",
   "execution_count": null,
   "outputs": [],
   "source": [],
   "metadata": {
    "collapsed": false,
    "ExecuteTime": {
     "start_time": "2023-11-19T12:48:29.177123100Z"
    }
   }
  }
 ],
 "metadata": {
  "kernelspec": {
   "display_name": "base",
   "language": "python",
   "name": "python3"
  },
  "language_info": {
   "codemirror_mode": {
    "name": "ipython",
    "version": 3
   },
   "file_extension": ".py",
   "mimetype": "text/x-python",
   "name": "python",
   "nbconvert_exporter": "python",
   "pygments_lexer": "ipython3",
   "version": "3.9.2"
  }
 },
 "nbformat": 4,
 "nbformat_minor": 2
}
